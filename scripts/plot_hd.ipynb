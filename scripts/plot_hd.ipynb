{
 "cells": [
  {
   "cell_type": "code",
   "execution_count": null,
   "metadata": {
    "scrolled": true
   },
   "outputs": [],
   "source": [
    "using Plots\n",
    "using DataFrames\n",
    "using CSV\n",
    "using Dates\n",
    "using TimeZones\n",
    "plotlyjs()"
   ]
  },
  {
   "cell_type": "code",
   "execution_count": null,
   "metadata": {},
   "outputs": [],
   "source": [
    "function get_timestamp(year, month, day, hour, minute, second)\n",
    "    dt0 = ZonedDateTime(Dates.DateTime(2020, 9, 8, 0, 0, 0), tz\"UTC\")\n",
    "    dt = ZonedDateTime(Dates.DateTime(year, month, day, hour, minute, second), tz\"UTC\")\n",
    "    return Int((dt-dt0).value/1000)\n",
    "end\n",
    "\n",
    "function get_run_inner_indices(vec)\n",
    "    run_inners = falses(size(vec)[1])\n",
    "    for n = 2:size(vec)[1]-1\n",
    "        if vec[n-1] == vec[n] && vec[n] == vec[n+1]\n",
    "            run_inners[n] = true\n",
    "        end\n",
    "    end\n",
    "    return run_inners\n",
    "end\n",
    "\n",
    "function get_jumps(vec, dt)\n",
    "    jump_idcs = []\n",
    "    for n = 2:size(vec)[1]\n",
    "        if abs(vec[n] - vec[n-1]) > dt\n",
    "            append!(jump_idcs, n)\n",
    "        end\n",
    "    end\n",
    "    return jump_idcs\n",
    "end"
   ]
  },
  {
   "cell_type": "markdown",
   "metadata": {},
   "source": [
    "## HD Usage"
   ]
  },
  {
   "cell_type": "code",
   "execution_count": null,
   "metadata": {},
   "outputs": [],
   "source": [
    "# load and concatenate the hd usage dataframe\n",
    "dfs = Array{Any}(undef, 63)\n",
    "itr = 1\n",
    "for fn = readdir()\n",
    "    println(\"Loading $(fn)\")\n",
    "    if first(fn, 2) == \"hd\" && last(fn,4) == \".csv\"\n",
    "        dfs[itr] = DataFrame(CSV.File(fn))\n",
    "        itr += 1\n",
    "    end \n",
    "end\n",
    "df = vcat(dfs...)\n",
    "print(nrow(df))"
   ]
  },
  {
   "cell_type": "code",
   "execution_count": null,
   "metadata": {},
   "outputs": [],
   "source": [
    "# add a column for seconds since 2020 09 08 00 00 00\n",
    "transform!(df, [:year, :month, :day, :hour, :minute, :second] => ByRow(get_timestamp) => :time)\n",
    "df = df[!, Not([(x in [\"year\", \"month\", \"day\", \"hour\", \"minute\", \"second\"]) for x in names(df)])]\n",
    "# sort lexicographically by user number and time\n",
    "sort!(df, [:user, :time])"
   ]
  },
  {
   "cell_type": "code",
   "execution_count": null,
   "metadata": {},
   "outputs": [],
   "source": [
    "# insert 0mb records where time difference is large + begin and end,\n",
    "# and remove strings of duplicated sizes\n",
    "\n",
    "# get user number starting indices\n",
    "user_changes = get_jumps(df[!, \"user\"], 0.5)\n",
    "prepend!(user_changes, [1])\n",
    "append!(user_changes, size(df[!, \"user\"])[1]+1)\n",
    "\n",
    "final_df = nothing\n",
    "for n = 1:size(user_changes)[1]-1\n",
    "    print(\"Processing user changepoint $n/$(size(user_changes)[1]-1)   \\r\")\n",
    "    \n",
    "    # find all rows for this user\n",
    "    df_user = df[user_changes[n]:(user_changes[n+1]-1), [\"user\", \"time\", \"used_mb\"]]\n",
    "        \n",
    "    # add a 0mb row to beginning and end\n",
    "    df_beg = DataFrame(time = [df[1, \"time\"]], used_mb = [0], user = df_user[1,\"user\"])\n",
    "    df_end = DataFrame(time = [df[end, \"time\"]], used_mb = [0], user = df_user[1,\"user\"])\n",
    "    df_user = vcat(df_beg, df_user, df_end)\n",
    "    \n",
    "    # find rows where the time difference is greater than 1 day\n",
    "    jump_idcs = get_jumps(df_user[!, \"time\"], 24*60*60)\n",
    "    # add 0 entries for those\n",
    "    zero_start_times = df_user[jump_idcs .- 1, \"time\"] .+ 1\n",
    "    zero_end_times = df_user[jump_idcs, \"time\"] .- 1\n",
    "    df_to_add = DataFrame(time = vcat(zero_start_times, zero_end_times), \n",
    "                        used_mb = zeros(size(zero_start_times)[1]*2),\n",
    "                        user = df_user[1, \"user\"])\n",
    "    # append and sort\n",
    "    df_extended = vcat(df_user, df_to_add)\n",
    "    sort!(df_extended, [:time])\n",
    "    # remove strings of duplicated sizes\n",
    "    inner_idcs = get_run_inner_indices(df_extended[!, \"used_mb\"])\n",
    "    df_extended = df_extended[Not(inner_idcs), :]\n",
    "    # append to df\n",
    "    if isnothing(final_df)\n",
    "        final_df = df_extended\n",
    "    else\n",
    "        final_df = vcat(final_df, df_extended)\n",
    "    end\n",
    "end\n",
    "df = final_df"
   ]
  },
  {
   "cell_type": "code",
   "execution_count": null,
   "metadata": {},
   "outputs": [],
   "source": [
    "# compute the hd totals\n",
    "dd = Dict()\n",
    "totalhd = [0.]\n",
    "df_ts = sort(df, [\"time\"])\n",
    "totaltimes = [df_ts[1, \"time\"]]\n",
    "for n = 1:nrow(df_ts)\n",
    "    usr = df_ts[n, \"user\"]\n",
    "    append!(totaltimes, df_ts[n, \"time\"])\n",
    "    append!(totalhd, totalhd[end] + df_ts[n, \"used_mb\"])\n",
    "    if haskey(dd, usr)\n",
    "        totalhd[end] -= dd[usr]\n",
    "    end\n",
    "    dd[usr] = df_ts[n, \"used_mb\"]\n",
    "end"
   ]
  },
  {
   "cell_type": "code",
   "execution_count": null,
   "metadata": {
    "scrolled": false
   },
   "outputs": [],
   "source": [
    "# get user number starting indices\n",
    "user_changes = get_jumps(df[!, \"user\"], 0.5)\n",
    "prepend!(user_changes, [1])\n",
    "append!(user_changes, size(df[!, \"user\"])[1]+1)\n",
    "\n",
    "p = plot(size = (1600, 1200))\n",
    "cur_user = df[1, \"user\"]\n",
    "for n = 1:size(user_changes)[1]-1\n",
    "    print(\"Processing user changepoint $n/$(size(user_changes)[1]-1)   \\r\")\n",
    "    \n",
    "    # find all rows for this user\n",
    "    df_user = df[user_changes[n]:(user_changes[n+1]-1), [\"user\", \"time\", \"used_mb\"]]\n",
    "    plot!(p, df_user[!, \"time\"]/3600/24, df_user[!,\"used_mb\"], legend=false, alpha=0.8)\n",
    "end\n",
    "ylabel!(p, \"Storage Used (MB)\")\n",
    "xlabel!(p, \"Day (since Sep 6, 2020)\")\n",
    "p"
   ]
  },
  {
   "cell_type": "code",
   "execution_count": null,
   "metadata": {},
   "outputs": [],
   "source": [
    "p = plot(size = (1600, 1200))\n",
    "plot!(p, totaltimes/3600/24, totalhd/1000, linewidth = 3)\n",
    "ylabel!(p, \"Storage Used (GB)\")\n",
    "xlabel!(p, \"Day (since Sep 6, 2020)\")\n",
    "p"
   ]
  },
  {
   "cell_type": "markdown",
   "metadata": {},
   "source": [
    "## Memory Usage"
   ]
  },
  {
   "cell_type": "code",
   "execution_count": null,
   "metadata": {},
   "outputs": [],
   "source": [
    "# load and concatenate the hd usage dataframe\n",
    "dfs = Array{Any}(undef, 64)\n",
    "itr = 1\n",
    "for fn = readdir()\n",
    "    println(\"Loading $(fn)\")\n",
    "    if first(fn, 7) == \"sar_non\" && last(fn,4) == \".csv\"\n",
    "        dfs[itr] = DataFrame(CSV.File(fn))[!, [\"year\", \"month\", \"day\", \"hour\", \"minute\", \"second\", \"%memused\", \"kbmemused\", \"kbswpused\", \"kbactive\", \"kbinact\"]]\n",
    "        itr += 1\n",
    "    end \n",
    "end\n",
    "df = vcat(dfs...)\n",
    "print(nrow(df))"
   ]
  },
  {
   "cell_type": "code",
   "execution_count": null,
   "metadata": {},
   "outputs": [],
   "source": [
    "# add a column for seconds since 2020 09 08 00 00 00\n",
    "transform!(df, [:year, :month, :day, :hour, :minute, :second] => ByRow(get_timestamp) => :time)\n",
    "df = df[!, Not([(x in [\"year\", \"month\", \"day\", \"hour\", \"minute\", \"second\"]) for x in names(df)])]\n",
    "# sort lexicographically by user number and time\n",
    "sort!(df, [:time])"
   ]
  },
  {
   "cell_type": "code",
   "execution_count": null,
   "metadata": {},
   "outputs": [],
   "source": [
    "p = plot(size = (1600, 1200))\n",
    "plot!(p, df[!, \"time\"]/3600/24, df[!, \"%memused\"], label = \"memory\")\n",
    "ylabel!(p, \"Memory Used (%)\")\n",
    "xlabel!(p, \"Day (since Sep 6, 2020)\")\n",
    "p"
   ]
  },
  {
   "cell_type": "code",
   "execution_count": null,
   "metadata": {},
   "outputs": [],
   "source": [
    "p = plot(size = (1600, 1200))\n",
    "plot!(p, df[!, \"time\"]/3600/24, df[!, \"kbmemused\"]/1000000, label = \"memory\")\n",
    "plot!(p, df[!, \"time\"]/3600/24, df[!, \"kbactive\"]/1000000, label = \"active\")\n",
    "plot!(p, df[!, \"time\"]/3600/24, df[!, \"kbinact\"]/1000000, label = \"inactive\")\n",
    "plot!(p, df[!, \"time\"]/3600/24, df[!, \"kbswpused\"]/1000000, label = \"swap\")\n",
    "ylabel!(p, \"Memory Used (GB)\")\n",
    "xlabel!(p, \"Day (since Sep 6, 2020)\")\n",
    "p"
   ]
  },
  {
   "cell_type": "markdown",
   "metadata": {},
   "source": [
    "## CPU Usage"
   ]
  },
  {
   "cell_type": "code",
   "execution_count": null,
   "metadata": {},
   "outputs": [],
   "source": [
    "# load and concatenate the hd usage dataframe\n",
    "dfs = Array{Any}(undef, 64)\n",
    "itr = 1\n",
    "for fn = readdir()\n",
    "    println(\"Loading $(fn)\")\n",
    "    if first(fn, 7) == \"sar_cpu\" && last(fn,4) == \".csv\"\n",
    "        # load the CSV\n",
    "        dftmp = DataFrame(CSV.File(fn))[!, [\"year\", \"month\", \"day\", \"hour\", \"minute\", \"second\", \"CPU\", \"%usr\", \"%sys\", \"%iowait\"]]\n",
    "        # just look at the \"all\" CPU column to reduce by factor of 64\n",
    "        filter!(row -> row.CPU == \"all\", dftmp)\n",
    "        # add a column for seconds since 2020 09 08 00 00 00 and drop all but time\n",
    "        transform!(dftmp, [:year, :month, :day, :hour, :minute, :second] => ByRow(get_timestamp) => :time)\n",
    "        dftmp = dftmp[!, Not([(x in [\"year\", \"month\", \"day\", \"hour\", \"minute\", \"second\"]) for x in names(dftmp)])]\n",
    "        \n",
    "        dfs[itr] = dftmp\n",
    "        itr += 1\n",
    "    end \n",
    "end\n",
    "df = vcat(dfs...)\n",
    "print(nrow(df))"
   ]
  },
  {
   "cell_type": "code",
   "execution_count": null,
   "metadata": {},
   "outputs": [],
   "source": [
    "# sort lexicographically by user number and time\n",
    "sort!(df, [:time])"
   ]
  },
  {
   "cell_type": "code",
   "execution_count": null,
   "metadata": {},
   "outputs": [],
   "source": [
    "p_usr = plot(size = (1600, 1200))\n",
    "p_sys = plot(size = (1600, 1200))\n",
    "p_iowait = plot(size = (1600, 1200))\n",
    "plot!(p_usr, df[!, \"time\"]/3600/24, df[!, \"%usr\"])\n",
    "plot!(p_sys, df[!, \"time\"]/3600/24, df[!, \"%sys\"])\n",
    "plot!(p_iowait, df[!, \"time\"]/3600/24, df[!, \"%iowait\"])\n",
    "# for cpu = 1:64\n",
    "#     df_cpu = filter(row -> row.CPU == cpu, df)\n",
    "#     plot!(p_usr, df[!, \"time\"]/3600/24, df[!, \"%usr\"])\n",
    "#     plot!(p_sys, df[!, \"time\"]/3600/24, df[!, \"%sys\"])\n",
    "#     plot!(p_iowait, df[!, \"time\"]/3600/24, df[!, \"%iowait\"])\n",
    "# end\n",
    "ylabel!(p_usr, \"User CPU Used (%)\")\n",
    "xlabel!(p_usr, \"Day (since Sep 6, 2020)\")\n",
    "ylabel!(p_sys, \"Sys CPU Used (%)\")\n",
    "xlabel!(p_sys, \"Day (since Sep 6, 2020)\")\n",
    "ylabel!(p_iowait, \"IOWait CPU Used (%)\")\n",
    "xlabel!(p_iowait, \"Day (since Sep 6, 2020)\")\n",
    "p"
   ]
  },
  {
   "cell_type": "code",
   "execution_count": null,
   "metadata": {},
   "outputs": [],
   "source": [
    "# plot totals\n",
    "p = plot(size = (1600, 1200))\n",
    "plot!(p, df[!, \"time\"]/3600/24, df[!, \"%usr\"], label=\"%usr\")\n",
    "plot!(p, df[!, \"time\"]/3600/24, df[!, \"%sys\"], label=\"%sys\")\n",
    "plot!(p, df[!, \"time\"]/3600/24, df[!, \"%iowait\"], label=\"%iowait\")\n",
    "ylabel!(p, \"CPU Used (%)\")\n",
    "xlabel!(p, \"Day (since Sep 6, 2020)\")\n",
    "p"
   ]
  },
  {
   "cell_type": "markdown",
   "metadata": {},
   "source": [
    "## Docker Memory Stats"
   ]
  },
  {
   "cell_type": "code",
   "execution_count": null,
   "metadata": {},
   "outputs": [],
   "source": [
    "# load and concatenate the memory usage dataframe\n",
    "dfs = Array{Any}(undef, 60)\n",
    "itr = 1\n",
    "for fn = readdir()\n",
    "    println(\"Loading $(fn)\")\n",
    "    if first(fn, 11) == \"docker_stat\" && last(fn,4) == \".csv\"\n",
    "        dfs[itr] = DataFrame(CSV.File(fn))[!, [\"year\", \"month\", \"day\", \"hour\", \"minute\", \"second\", \"user\", \"mem_usage_mb\"]]\n",
    "        itr += 1\n",
    "    end \n",
    "end\n",
    "df = vcat(dfs...)\n",
    "print(nrow(df))"
   ]
  },
  {
   "cell_type": "code",
   "execution_count": null,
   "metadata": {},
   "outputs": [],
   "source": [
    "# filter to get rid of non-numeric container names (non-jupyterhub user containers)\n",
    "filter!(row -> typeof(row.user) == Int || !isnothing(tryparse(Int, row.user)), df)\n",
    "# convert user to numeric\n",
    "for n = 1:size(df)[1]\n",
    "    if typeof(df[n, \"user\"]) != Int\n",
    "        df[n, \"user\"] = parse(Int, df[n, \"user\"])\n",
    "    end\n",
    "end\n",
    "df[!, \"user\"] = convert.(Int, df[!, \"user\"])\n"
   ]
  },
  {
   "cell_type": "code",
   "execution_count": null,
   "metadata": {},
   "outputs": [],
   "source": [
    "# add a column for seconds since 2020 09 08 00 00 00\n",
    "transform!(df, [:year, :month, :day, :hour, :minute, :second] => ByRow(get_timestamp) => :time)\n",
    "df = df[!, Not([(x in [\"year\", \"month\", \"day\", \"hour\", \"minute\", \"second\"]) for x in names(df)])]\n",
    "# sort lexicographically by user number and time\n",
    "sort!(df, [:user, :time])"
   ]
  },
  {
   "cell_type": "code",
   "execution_count": null,
   "metadata": {},
   "outputs": [],
   "source": [
    "# insert 0mb records where time difference is large + begin and end,\n",
    "# and remove strings of duplicated sizes\n",
    "\n",
    "# get user number starting indices\n",
    "user_changes = get_jumps(df[!, \"user\"], 0.5)\n",
    "prepend!(user_changes, [1])\n",
    "append!(user_changes, size(df[!, \"user\"])[1]+1)\n",
    "\n",
    "final_df = nothing\n",
    "for n = 1:size(user_changes)[1]-1\n",
    "    print(\"Processing user changepoint $n/$(size(user_changes)[1]-1)   \\r\")\n",
    "    \n",
    "    # find all rows for this user\n",
    "    df_user = df[user_changes[n]:(user_changes[n+1]-1), [\"user\", \"mem_usage_mb\", \"time\"]]\n",
    "        \n",
    "    # add a 0mb row to beginning and end\n",
    "    df_beg = DataFrame(time = [df[1, \"time\"]], mem_usage_mb = [0], user = df_user[1,\"user\"])\n",
    "    df_end = DataFrame(time = [df[end, \"time\"]], mem_usage_mb = [0], user = df_user[1,\"user\"])\n",
    "    df_user = vcat(df_beg, df_user, df_end)\n",
    "    \n",
    "    # find rows where the time difference is greater than 30 mins\n",
    "    jump_idcs = get_jumps(df_user[!, \"time\"], 30*60)\n",
    "    # add 0 entries for those\n",
    "    zero_start_times = df_user[jump_idcs .- 1, \"time\"] .+ 1\n",
    "    zero_end_times = df_user[jump_idcs, \"time\"] .- 1\n",
    "    df_to_add = DataFrame(time = vcat(zero_start_times, zero_end_times), \n",
    "                        mem_usage_mb = zeros(size(zero_start_times)[1]*2),\n",
    "                        user = df_user[1, \"user\"])\n",
    "    # append and sort\n",
    "    df_extended = vcat(df_user, df_to_add)\n",
    "    sort!(df_extended, [:time])\n",
    "    # remove strings of duplicated sizes\n",
    "    inner_idcs = get_run_inner_indices(df_extended[!, \"mem_usage_mb\"])\n",
    "    df_extended = df_extended[Not(inner_idcs), :]\n",
    "    # append to df\n",
    "    if isnothing(final_df)\n",
    "        final_df = df_extended\n",
    "    else\n",
    "        final_df = vcat(final_df, df_extended)\n",
    "    end\n",
    "end\n",
    "df = final_df"
   ]
  },
  {
   "cell_type": "code",
   "execution_count": null,
   "metadata": {},
   "outputs": [],
   "source": [
    "# compute the memory totals\n",
    "dd = Dict()\n",
    "totalmem = [0.]\n",
    "df_ts = sort(df, [\"time\"])\n",
    "totaltimes = [df_ts[1, \"time\"]]\n",
    "for n = 1:nrow(df_ts)\n",
    "    usr = df_ts[n, \"user\"]\n",
    "    append!(totaltimes, df_ts[n, \"time\"])\n",
    "    append!(totalmem, totalmem[end] + df_ts[n, \"mem_usage_mb\"])\n",
    "    if haskey(dd, usr)\n",
    "        totalmem[end] -= dd[usr]\n",
    "    end\n",
    "    dd[usr] = df_ts[n, \"mem_usage_mb\"]\n",
    "end"
   ]
  },
  {
   "cell_type": "code",
   "execution_count": null,
   "metadata": {
    "scrolled": true
   },
   "outputs": [],
   "source": [
    "# get user number starting indices\n",
    "user_changes = get_jumps(df[!, \"user\"], 0.5)\n",
    "prepend!(user_changes, [1])\n",
    "append!(user_changes, size(df[!, \"user\"])[1]+1)\n",
    "\n",
    "p = plot(size = (1600, 1200))\n",
    "cur_user = df[1, \"user\"]\n",
    "for n = 1:size(user_changes)[1]-1\n",
    "    print(\"Processing user changepoint $n/$(size(user_changes)[1]-1)   \\r\")\n",
    "    \n",
    "    # find all rows for this user\n",
    "    df_user = df[user_changes[n]:(user_changes[n+1]-1), [\"user\", \"time\", \"mem_usage_mb\"]]\n",
    "    plot!(p, df_user[!, \"time\"]/3600/24, df_user[!,\"mem_usage_mb\"]/1000, legend=false, alpha=0.8)\n",
    "end\n",
    "ylabel!(p, \"Memory Used (GB)\")\n",
    "xlabel!(p, \"Day (since Sep 6, 2020)\")\n",
    "p"
   ]
  },
  {
   "cell_type": "code",
   "execution_count": null,
   "metadata": {},
   "outputs": [],
   "source": [
    "p = plot(size = (1600, 1200))\n",
    "plot!(p, totaltimes/3600/24, totalmem/1000)\n",
    "ylabel!(p, \"Memory Used (GB)\")\n",
    "xlabel!(p, \"Day (since Sep 6, 2020)\")\n",
    "p"
   ]
  },
  {
   "cell_type": "code",
   "execution_count": null,
   "metadata": {},
   "outputs": [],
   "source": []
  }
 ],
 "metadata": {
  "kernelspec": {
   "display_name": "Julia 1.6.1",
   "language": "julia",
   "name": "julia-1.6"
  },
  "language_info": {
   "file_extension": ".jl",
   "mimetype": "application/julia",
   "name": "julia",
   "version": "1.6.3"
  }
 },
 "nbformat": 4,
 "nbformat_minor": 5
}
