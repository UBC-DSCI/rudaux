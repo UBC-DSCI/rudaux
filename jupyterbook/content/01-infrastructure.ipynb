{
 "cells": [
  {
   "cell_type": "markdown",
   "metadata": {},
   "source": [
    "# Course Infrastructure"
   ]
  },
  {
   "cell_type": "markdown",
   "metadata": {},
   "source": [
    "### Inventory list\n",
    "- Canvas course shell\n",
    "- Two JupyterHub servers (each running on an AWS EC2 instance)\n",
    "- Rudaux to build the JupyterHubs and connect the above"
   ]
  },
  {
   "cell_type": "markdown",
   "metadata": {},
   "source": [
    "## Building JupyterHub servers"
   ]
  },
  {
   "cell_type": "markdown",
   "metadata": {},
   "source": [
    "### Installation setup\n",
    "1. Install Ansible on your local computer following these directions: https://docs.ansible.com/ansible/latest/installation_guide/intro_installation.html#installation-guide"
   ]
  },
  {
   "cell_type": "markdown",
   "metadata": {},
   "source": [
    "2. Set-up two EC2 instances as documented here: http://tljh.jupyter.org/en/latest/install/amazon.html (note: abstract this to AWS CLI command). Add the ansible machine's (e.g., your laptop's) public key to `~/.ssh/authorized_keys` on the EC2 instances."
   ]
  },
  {
   "cell_type": "markdown",
   "metadata": {},
   "source": [
    "3. Copy the EC2 public IP addresses of the EC2 instances into `ansible/inventory` replacing `<STUDENT_HUB_IP>` and `<GRADING_HUB_IP>` respectively.\n",
    "\n",
    "> To test this is all setup correctly you can try pinging one of the hubs via:\n",
    ">\n",
    "> `ansible jhub-mastodon -m ping`"
   ]
  },
  {
   "cell_type": "markdown",
   "metadata": {},
   "source": [
    "4. Set the devices for the zfs snapshots and the docker images in `group_vars/all/local_vars.yml`. For example:\n",
    "\n",
    "```\n",
    "zfs_vdev_config: /dev/nvme1n1\n",
    "openstack_ephemeral_docker_disk: /dev/nvme2n1\n",
    "```"
   ]
  },
  {
   "cell_type": "markdown",
   "metadata": {},
   "source": [
    "To run the setup step of the student hub, run the following command:\n",
    "\n",
    "```\n",
    "make ansible/setup ENV=prod\n",
    "```"
   ]
  },
  {
   "cell_type": "markdown",
   "metadata": {},
   "source": [
    "To run the init step of the student hub, run the following command:\n",
    "\n",
    "```\n",
    "make ansible/playbook PLAYBOOK=init ENV=prod\n",
    "```"
   ]
  },
  {
   "cell_type": "code",
   "execution_count": null,
   "metadata": {},
   "outputs": [],
   "source": []
  }
 ],
 "metadata": {
  "kernelspec": {
   "display_name": "Python 3",
   "language": "python",
   "name": "python3"
  },
  "language_info": {
   "codemirror_mode": {
    "name": "ipython",
    "version": 3
   },
   "file_extension": ".py",
   "mimetype": "text/x-python",
   "name": "python",
   "nbconvert_exporter": "python",
   "pygments_lexer": "ipython3",
   "version": "3.7.6"
  }
 },
 "nbformat": 4,
 "nbformat_minor": 4
}
